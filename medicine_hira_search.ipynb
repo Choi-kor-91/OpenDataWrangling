{
 "cells": [
  {
   "cell_type": "markdown",
   "metadata": {},
   "source": [
    "[주성분코드부여방법](https://www.health.kr/drug_info/basedrug/main_ingredient.html)\n",
    "\n",
    "http://www.hira.or.kr/rf/medicine/getHistoryList.do?pgmid=HIRAA030035020000"
   ]
  },
  {
   "cell_type": "code",
   "execution_count": 1,
   "metadata": {},
   "outputs": [],
   "source": [
    "import requests\n",
    "from bs4 import BeautifulSoup as bs\n",
    "import pandas as pd"
   ]
  },
  {
   "cell_type": "code",
   "execution_count": 2,
   "metadata": {},
   "outputs": [],
   "source": [
    "url = \"http://www.hira.or.kr/rf/medicine/getHistoryList.do?pgmid=HIRAA030035020000\"\n",
    "query = \"isActivity=Y&pageIndex=1&isDown=N&radio1=&searchWrd=&sortOrdr=&srchCnd=&artcNm=&mnfCoNm=&anceDdFr=&anceDdTo=&adtStaDdFr=&adtStaDdTo=\""
   ]
  },
  {
   "cell_type": "code",
   "execution_count": 3,
   "metadata": {
    "scrolled": true
   },
   "outputs": [
    {
     "data": {
      "text/plain": [
       "{'isActivity': 'Y',\n",
       " 'pageIndex': '1',\n",
       " 'isDown': 'N',\n",
       " 'radio1': '',\n",
       " 'searchWrd': '',\n",
       " 'sortOrdr': '',\n",
       " 'srchCnd': '',\n",
       " 'artcNm': '',\n",
       " 'mnfCoNm': '',\n",
       " 'anceDdFr': '',\n",
       " 'anceDdTo': '',\n",
       " 'adtStaDdFr': '',\n",
       " 'adtStaDdTo': ''}"
      ]
     },
     "execution_count": 3,
     "metadata": {},
     "output_type": "execute_result"
    }
   ],
   "source": [
    "query_split = query.split(\"&\")\n",
    "params = {}\n",
    "for q in query_split:\n",
    "    q_split = q.split(\"=\")\n",
    "    key = q_split[0]\n",
    "    val = q_split[1]\n",
    "    params[key] = val\n",
    "    \n",
    "params"
   ]
  },
  {
   "cell_type": "code",
   "execution_count": 4,
   "metadata": {},
   "outputs": [
    {
     "data": {
      "text/plain": [
       "{'isActivity': 'Y',\n",
       " 'pageIndex': '1',\n",
       " 'isDown': 'N',\n",
       " 'radio1': '',\n",
       " 'searchWrd': '',\n",
       " 'sortOrdr': '',\n",
       " 'srchCnd': '',\n",
       " 'artcNm': '111001ATE',\n",
       " 'mnfCoNm': '',\n",
       " 'anceDdFr': '',\n",
       " 'anceDdTo': '',\n",
       " 'adtStaDdFr': '',\n",
       " 'adtStaDdTo': ''}"
      ]
     },
     "execution_count": 4,
     "metadata": {},
     "output_type": "execute_result"
    }
   ],
   "source": [
    "# 원하는 약품코드 입력\n",
    "params[\"artcNm\"] = \"111001ATE\"\n",
    "params"
   ]
  },
  {
   "cell_type": "code",
   "execution_count": 6,
   "metadata": {},
   "outputs": [],
   "source": [
    "def get_medicine_table(url, params):\n",
    "    \n",
    "    response = requests.post(url, params)\n",
    "    html = bs(response.text)\n",
    "    \n",
    "    table = html.select(\"table.tbl_default\")\n",
    "    if table:\n",
    "        return table[0]\n",
    "    else:\n",
    "        return False"
   ]
  },
  {
   "cell_type": "code",
   "execution_count": 7,
   "metadata": {},
   "outputs": [
    {
     "data": {
      "text/plain": [
       "{'isActivity': 'Y',\n",
       " 'pageIndex': '1',\n",
       " 'isDown': 'N',\n",
       " 'radio1': '',\n",
       " 'searchWrd': '',\n",
       " 'sortOrdr': '',\n",
       " 'srchCnd': '',\n",
       " 'artcNm': '111001ATE',\n",
       " 'mnfCoNm': '',\n",
       " 'anceDdFr': '',\n",
       " 'anceDdTo': '',\n",
       " 'adtStaDdFr': '',\n",
       " 'adtStaDdTo': ''}"
      ]
     },
     "execution_count": 7,
     "metadata": {},
     "output_type": "execute_result"
    }
   ],
   "source": [
    "params"
   ]
  },
  {
   "cell_type": "code",
   "execution_count": 13,
   "metadata": {},
   "outputs": [
    {
     "data": {
      "text/plain": [
       "<table class=\"tbl_default lLine\" summary=\"약품이력정보의 제품코드, 제품명, 업체명, 규격, 단위, 급여구분, 투여경로, 약효분류번호, 저가필수구분, 전문일반구분, 생동인정제품, 주성분코드, 임의조제불가구분, 사용장려비용가산, 상한가, 예외약1, 예외약2, 적용개시일자, 적용종료일자 제공표\">\n",
       "<caption>약품이력정보</caption>\n",
       "<colgroup>\n",
       "<col style=\"width:12%\"/>\n",
       "<col style=\"width:*%\"/>\n",
       "<col style=\"width:6%\"/>\n",
       "<col style=\"width:9%\"/>\n",
       "<col style=\"width:10%\"/>\n",
       "<col style=\"width:10%\"/>\n",
       "<col style=\"width:13%\"/>\n",
       "<col style=\"width:10%\"/>\n",
       "<col style=\"width:10%\"/>\n",
       "<col style=\"width:12%\"/>\n",
       "</colgroup>\n",
       "<thead>\n",
       "<tr>\n",
       "<th class=\"fst\" rowspan=\"2\" scope=\"col\">\n",
       "                                        제품코드\n",
       "                                        <span class=\"th-sort\"><a class=\"desc\" href=\"#none\" onclick=\"setSortOrder('02-01'); return false;\" title=\"오름차순 정렬\">오름차순</a><a class=\"asc\" href=\"#none\" onclick=\"setSortOrder('02-02'); return false;\" title=\"내림차순 정렬\">내림차순</a></span>\n",
       "</th>\n",
       "<th scope=\"col\">\n",
       "                                        제품명\n",
       "                                        <span class=\"th-sort\"><a class=\"desc\" href=\"#none\" onclick=\"setSortOrder('01-01'); return false;\" title=\"오름차순 정렬\">오름차순</a><a class=\"asc\" href=\"#none\" onclick=\"setSortOrder('01-02'); return false;\" title=\"내림차순 정렬\">내림차순</a></span>\n",
       "</th>\n",
       "<th scope=\"col\">규격</th>\n",
       "<th scope=\"col\">급여<br/>구분</th>\n",
       "<th scope=\"col\">약효<br/>분류번호</th>\n",
       "<th scope=\"col\">전문일반<br/>구분</th>\n",
       "<th scope=\"col\">주성분코드</th>\n",
       "<th scope=\"col\">사용장려<br/>비용가산</th>\n",
       "<th scope=\"col\">예외약1</th>\n",
       "<th scope=\"col\">적용<br/>개시일자<span class=\"th-sort\"><a class=\"desc\" href=\"#none\" onclick=\"setSortOrder('04-01'); return false;\" title=\"오름차순 정렬\">오름차순</a><a class=\"asc\" href=\"#none\" onclick=\"setSortOrder('04-02'); return false;\" title=\"내림차순 정렬\">내림차순</a></span></th>\n",
       "</tr>\n",
       "<tr class=\"bg\">\n",
       "<th class=\"blno\" scope=\"col\">\n",
       "                                        업체명\n",
       "                                        <span class=\"th-sort\"><a class=\"desc\" href=\"#none\" onclick=\"setSortOrder('03-01'); return false;\" title=\"오름차순 정렬\">오름차순</a><a class=\"asc\" href=\"#none\" onclick=\"setSortOrder('03-02'); return false;\" title=\"내림차순 정렬\">내림차순</a></span>\n",
       "</th>\n",
       "<th scope=\"col\">단위</th>\n",
       "<th scope=\"col\">투여경로</th>\n",
       "<th scope=\"col\">저가<br/>필수구분</th>\n",
       "<th scope=\"col\">생동인정<br/>제품</th>\n",
       "<th scope=\"col\">임의조제<br/>불가구분</th>\n",
       "<th scope=\"col\">상한가</th>\n",
       "<th scope=\"col\">예외약2</th>\n",
       "<th scope=\"col\">적용<br/>종료일자</th>\n",
       "</tr>\n",
       "</thead>\n",
       "<tbody>\n",
       "<tr>\n",
       "<td class=\"ac\" rowspan=\"2\">642901951</td>\n",
       "<td><a href=\"#none\" onclick=\"goPermissionInfo('642901951', '199000358'); return false;\">일동후루마린주사0.5그램(플로목세프나트륨)_(0.5g/1병)</a></td>\n",
       "<td class=\"ac\">1</td>\n",
       "<td class=\"ac\">급여</td>\n",
       "<td class=\"ac\">618</td>\n",
       "<td class=\"ac\">전문</td>\n",
       "<td class=\"ac\">159501BIJ</td>\n",
       "<td class=\"ac\">0</td>\n",
       "<td class=\"ac\">-</td>\n",
       "<td class=\"ac\">2025-04-21</td>\n",
       "</tr>\n",
       "<tr>\n",
       "<td class=\"blno\">일동제약(주)</td>\n",
       "<td class=\"ac\">병</td>\n",
       "<td class=\"ac\">주사</td>\n",
       "<td class=\"ac\"></td>\n",
       "<td class=\"ac\"></td>\n",
       "<td class=\"ac\"></td>\n",
       "<td class=\"ac\">6,294</td>\n",
       "<td class=\"ac\">-</td>\n",
       "<td class=\"ac\"></td>\n",
       "</tr>\n",
       "<tr>\n",
       "<td class=\"ac\" rowspan=\"2\">641805900</td>\n",
       "<td><a href=\"#none\" onclick=\"goPermissionInfo('641805900', '201502369'); return false;\">광동시타글립틴인산염수화물정100밀리그램_(0.1285g/1정)</a></td>\n",
       "<td class=\"ac\">1</td>\n",
       "<td class=\"ac\">급여</td>\n",
       "<td class=\"ac\">396</td>\n",
       "<td class=\"ac\">전문</td>\n",
       "<td class=\"ac\">501103ATB</td>\n",
       "<td class=\"ac\">0</td>\n",
       "<td class=\"ac\">-</td>\n",
       "<td class=\"ac\">2024-09-02</td>\n",
       "</tr>\n",
       "<tr>\n",
       "<td class=\"blno\">광동제약(주)</td>\n",
       "<td class=\"ac\">정</td>\n",
       "<td class=\"ac\">내복</td>\n",
       "<td class=\"ac\"></td>\n",
       "<td class=\"ac\"></td>\n",
       "<td class=\"ac\"></td>\n",
       "<td class=\"ac\">487</td>\n",
       "<td class=\"ac\">-</td>\n",
       "<td class=\"ac\"></td>\n",
       "</tr>\n",
       "<tr>\n",
       "<td class=\"ac\" rowspan=\"2\">643202640</td>\n",
       "<td><a href=\"#none\" onclick=\"goPermissionInfo('643202640', '201502384'); return false;\">스타비아정100mg(시타글립틴인산염수화물)_(0.1285g/1정)</a></td>\n",
       "<td class=\"ac\">1</td>\n",
       "<td class=\"ac\">급여</td>\n",
       "<td class=\"ac\">396</td>\n",
       "<td class=\"ac\">전문</td>\n",
       "<td class=\"ac\">501103ATB</td>\n",
       "<td class=\"ac\">0</td>\n",
       "<td class=\"ac\">-</td>\n",
       "<td class=\"ac\">2024-09-02</td>\n",
       "</tr>\n",
       "<tr>\n",
       "<td class=\"blno\">동성제약(주)</td>\n",
       "<td class=\"ac\">정</td>\n",
       "<td class=\"ac\">내복</td>\n",
       "<td class=\"ac\"></td>\n",
       "<td class=\"ac\">생동성시험</td>\n",
       "<td class=\"ac\"></td>\n",
       "<td class=\"ac\">487</td>\n",
       "<td class=\"ac\">-</td>\n",
       "<td class=\"ac\"></td>\n",
       "</tr>\n",
       "<tr>\n",
       "<td class=\"ac\" rowspan=\"2\">648507280</td>\n",
       "<td><a href=\"#none\" onclick=\"goPermissionInfo('648507280', '201500229'); return false;\">시타글루정100밀리그램(시타글립틴인산염수화물)_(0.1285g/1정)</a></td>\n",
       "<td class=\"ac\">1</td>\n",
       "<td class=\"ac\">급여</td>\n",
       "<td class=\"ac\">396</td>\n",
       "<td class=\"ac\">전문</td>\n",
       "<td class=\"ac\">501103ATB</td>\n",
       "<td class=\"ac\">0</td>\n",
       "<td class=\"ac\">-</td>\n",
       "<td class=\"ac\">2024-09-02</td>\n",
       "</tr>\n",
       "<tr>\n",
       "<td class=\"blno\">신풍제약(주)</td>\n",
       "<td class=\"ac\">정</td>\n",
       "<td class=\"ac\">내복</td>\n",
       "<td class=\"ac\"></td>\n",
       "<td class=\"ac\"></td>\n",
       "<td class=\"ac\"></td>\n",
       "<td class=\"ac\">487</td>\n",
       "<td class=\"ac\">-</td>\n",
       "<td class=\"ac\"></td>\n",
       "</tr>\n",
       "<tr>\n",
       "<td class=\"ac\" rowspan=\"2\">648507360</td>\n",
       "<td><a href=\"#none\" onclick=\"goPermissionInfo('648507360', '201502260'); return false;\">시타글루정25밀리그램(시타글립틴인산염수화물)_(32.125mg/1정)</a></td>\n",
       "<td class=\"ac\">1</td>\n",
       "<td class=\"ac\">급여</td>\n",
       "<td class=\"ac\">396</td>\n",
       "<td class=\"ac\">전문</td>\n",
       "<td class=\"ac\">501101ATB</td>\n",
       "<td class=\"ac\">0</td>\n",
       "<td class=\"ac\">-</td>\n",
       "<td class=\"ac\">2024-09-02</td>\n",
       "</tr>\n",
       "<tr>\n",
       "<td class=\"blno\">신풍제약(주)</td>\n",
       "<td class=\"ac\">정</td>\n",
       "<td class=\"ac\">내복</td>\n",
       "<td class=\"ac\"></td>\n",
       "<td class=\"ac\"></td>\n",
       "<td class=\"ac\"></td>\n",
       "<td class=\"ac\">215</td>\n",
       "<td class=\"ac\">-</td>\n",
       "<td class=\"ac\"></td>\n",
       "</tr>\n",
       "<tr>\n",
       "<td class=\"ac\" rowspan=\"2\">648507350</td>\n",
       "<td><a href=\"#none\" onclick=\"goPermissionInfo('648507350', '201502259'); return false;\">시타글루정50밀리그램(시타글립틴인산염수화물)_(64.25mg/1정)</a></td>\n",
       "<td class=\"ac\">1</td>\n",
       "<td class=\"ac\">급여</td>\n",
       "<td class=\"ac\">396</td>\n",
       "<td class=\"ac\">전문</td>\n",
       "<td class=\"ac\">501102ATB</td>\n",
       "<td class=\"ac\">0</td>\n",
       "<td class=\"ac\">-</td>\n",
       "<td class=\"ac\">2024-09-02</td>\n",
       "</tr>\n",
       "<tr>\n",
       "<td class=\"blno\">신풍제약(주)</td>\n",
       "<td class=\"ac\">정</td>\n",
       "<td class=\"ac\">내복</td>\n",
       "<td class=\"ac\"></td>\n",
       "<td class=\"ac\"></td>\n",
       "<td class=\"ac\"></td>\n",
       "<td class=\"ac\">323</td>\n",
       "<td class=\"ac\">-</td>\n",
       "<td class=\"ac\"></td>\n",
       "</tr>\n",
       "<tr>\n",
       "<td class=\"ac\" rowspan=\"2\">658202750</td>\n",
       "<td><a href=\"#none\" onclick=\"goPermissionInfo('658202750', '201502209'); return false;\">시타립틴정100밀리그램(시타글립틴인산염수화물)_(0.1285g/1정)</a></td>\n",
       "<td class=\"ac\">1</td>\n",
       "<td class=\"ac\">급여</td>\n",
       "<td class=\"ac\">396</td>\n",
       "<td class=\"ac\">전문</td>\n",
       "<td class=\"ac\">501103ATB</td>\n",
       "<td class=\"ac\">0</td>\n",
       "<td class=\"ac\">-</td>\n",
       "<td class=\"ac\">2024-09-02</td>\n",
       "</tr>\n",
       "<tr>\n",
       "<td class=\"blno\">이니스트바이오제약(주)</td>\n",
       "<td class=\"ac\">정</td>\n",
       "<td class=\"ac\">내복</td>\n",
       "<td class=\"ac\"></td>\n",
       "<td class=\"ac\">생동성시험</td>\n",
       "<td class=\"ac\"></td>\n",
       "<td class=\"ac\">487</td>\n",
       "<td class=\"ac\">-</td>\n",
       "<td class=\"ac\"></td>\n",
       "</tr>\n",
       "<tr>\n",
       "<td class=\"ac\" rowspan=\"2\">658202810</td>\n",
       "<td><a href=\"#none\" onclick=\"goPermissionInfo('658202810', '201502557'); return false;\">시타립틴정25밀리그램(시타글립틴인산염수화물)_(32.125mg/1정)</a></td>\n",
       "<td class=\"ac\">1</td>\n",
       "<td class=\"ac\">급여</td>\n",
       "<td class=\"ac\">396</td>\n",
       "<td class=\"ac\">전문</td>\n",
       "<td class=\"ac\">501101ATB</td>\n",
       "<td class=\"ac\">0</td>\n",
       "<td class=\"ac\">-</td>\n",
       "<td class=\"ac\">2024-09-02</td>\n",
       "</tr>\n",
       "<tr>\n",
       "<td class=\"blno\">이니스트바이오제약(주)</td>\n",
       "<td class=\"ac\">정</td>\n",
       "<td class=\"ac\">내복</td>\n",
       "<td class=\"ac\"></td>\n",
       "<td class=\"ac\"></td>\n",
       "<td class=\"ac\"></td>\n",
       "<td class=\"ac\">215</td>\n",
       "<td class=\"ac\">-</td>\n",
       "<td class=\"ac\"></td>\n",
       "</tr>\n",
       "<tr>\n",
       "<td class=\"ac\" rowspan=\"2\">658202820</td>\n",
       "<td><a href=\"#none\" onclick=\"goPermissionInfo('658202820', '201502558'); return false;\">시타립틴정50밀리그램(시타글립틴인산염수화물)_(64.25mg/1정)</a></td>\n",
       "<td class=\"ac\">1</td>\n",
       "<td class=\"ac\">급여</td>\n",
       "<td class=\"ac\">396</td>\n",
       "<td class=\"ac\">전문</td>\n",
       "<td class=\"ac\">501102ATB</td>\n",
       "<td class=\"ac\">0</td>\n",
       "<td class=\"ac\">-</td>\n",
       "<td class=\"ac\">2024-09-02</td>\n",
       "</tr>\n",
       "<tr>\n",
       "<td class=\"blno\">이니스트바이오제약(주)</td>\n",
       "<td class=\"ac\">정</td>\n",
       "<td class=\"ac\">내복</td>\n",
       "<td class=\"ac\"></td>\n",
       "<td class=\"ac\"></td>\n",
       "<td class=\"ac\"></td>\n",
       "<td class=\"ac\">323</td>\n",
       "<td class=\"ac\">-</td>\n",
       "<td class=\"ac\"></td>\n",
       "</tr>\n",
       "<tr>\n",
       "<td class=\"ac\" rowspan=\"2\">671805880</td>\n",
       "<td><a href=\"#none\" onclick=\"goPermissionInfo('671805880', '201502304'); return false;\">자누리틴정100mg(시타글립틴인산염수화물)_(0.1285g/1정)</a></td>\n",
       "<td class=\"ac\">1</td>\n",
       "<td class=\"ac\">급여</td>\n",
       "<td class=\"ac\">396</td>\n",
       "<td class=\"ac\">전문</td>\n",
       "<td class=\"ac\">501103ATB</td>\n",
       "<td class=\"ac\">0</td>\n",
       "<td class=\"ac\">-</td>\n",
       "<td class=\"ac\">2024-09-02</td>\n",
       "</tr>\n",
       "<tr>\n",
       "<td class=\"blno\">대원제약(주)</td>\n",
       "<td class=\"ac\">정</td>\n",
       "<td class=\"ac\">내복</td>\n",
       "<td class=\"ac\"></td>\n",
       "<td class=\"ac\">생동성시험</td>\n",
       "<td class=\"ac\"></td>\n",
       "<td class=\"ac\">487</td>\n",
       "<td class=\"ac\">-</td>\n",
       "<td class=\"ac\"></td>\n",
       "</tr>\n",
       "</tbody>\n",
       "</table>"
      ]
     },
     "execution_count": 13,
     "metadata": {},
     "output_type": "execute_result"
    }
   ],
   "source": [
    "# 원하는 약품코드 \n",
    "params[\"artcNm\"] = \"111001ATE\"\n",
    "params[\"artcNm\"] = \"\"\n",
    "\n",
    "\n",
    "table = get_medicine_table(url, params)\n",
    "table"
   ]
  },
  {
   "cell_type": "code",
   "execution_count": 19,
   "metadata": {},
   "outputs": [
    {
     "data": {
      "text/plain": [
       "['제품코드,',\n",
       " '제품명,',\n",
       " '업체명,',\n",
       " '규격,',\n",
       " '단위,',\n",
       " '급여구분,',\n",
       " '투여경로,',\n",
       " '약효분류번호,',\n",
       " '저가필수구분,',\n",
       " '전문일반구분,',\n",
       " '생동인정제품,',\n",
       " '주성분코드,',\n",
       " '임의조제불가구분,',\n",
       " '사용장려비용가산,',\n",
       " '상한가,',\n",
       " '예외약1,',\n",
       " '예외약2,',\n",
       " '적용개시일자,',\n",
       " '적용종료일자']"
      ]
     },
     "execution_count": 19,
     "metadata": {},
     "output_type": "execute_result"
    }
   ],
   "source": [
    "summary = table[\"summary\"]\n",
    "summary = summary.split()\n",
    "cols = summary[1:-1]\n",
    "cols"
   ]
  },
  {
   "cell_type": "code",
   "execution_count": 18,
   "metadata": {},
   "outputs": [
    {
     "data": {
      "text/plain": [
       "19"
      ]
     },
     "execution_count": 18,
     "metadata": {},
     "output_type": "execute_result"
    }
   ],
   "source": [
    "len(cols)"
   ]
  },
  {
   "cell_type": "code",
   "execution_count": 21,
   "metadata": {},
   "outputs": [],
   "source": [
    "trs = table.select(\"tbody > tr\")"
   ]
  },
  {
   "cell_type": "code",
   "execution_count": 22,
   "metadata": {},
   "outputs": [
    {
     "data": {
      "text/plain": [
       "[<td class=\"blno\">일동제약(주)</td>,\n",
       " <td class=\"ac\">병</td>,\n",
       " <td class=\"ac\">주사</td>,\n",
       " <td class=\"ac\"></td>,\n",
       " <td class=\"ac\"></td>,\n",
       " <td class=\"ac\"></td>,\n",
       " <td class=\"ac\">6,294</td>,\n",
       " <td class=\"ac\">-</td>,\n",
       " <td class=\"ac\"></td>]"
      ]
     },
     "execution_count": 22,
     "metadata": {},
     "output_type": "execute_result"
    }
   ],
   "source": [
    "trs[1].select(\"td\")"
   ]
  },
  {
   "cell_type": "code",
   "execution_count": 23,
   "metadata": {},
   "outputs": [],
   "source": [
    "def parse_tr(trs):\n",
    "    row_list = []\n",
    "    drug = []\n",
    "    for i, tr in enumerate(trs):\n",
    "        rows = tr.get_text().split(\"\\n\")\n",
    "        drug.extend(rows)\n",
    "        # 2개의 행에 데이터가 나눠 있기 때문에\n",
    "        # 짝수행에서는 append 로 리스트에 추가하고 drug을 초기화 합니다.\n",
    "        if i % 2 == 1:\n",
    "            row_list.append(drug)\n",
    "            drug = []\n",
    "    return row_list"
   ]
  },
  {
   "cell_type": "code",
   "execution_count": 24,
   "metadata": {
    "scrolled": true
   },
   "outputs": [
    {
     "data": {
      "text/plain": [
       "(10, 23)"
      ]
     },
     "execution_count": 24,
     "metadata": {},
     "output_type": "execute_result"
    }
   ],
   "source": [
    "drug = parse_tr(trs)\n",
    "df = pd.DataFrame(drug)\n",
    "df.shape"
   ]
  },
  {
   "cell_type": "code",
   "execution_count": 25,
   "metadata": {},
   "outputs": [
    {
     "data": {
      "text/plain": [
       "19"
      ]
     },
     "execution_count": 25,
     "metadata": {},
     "output_type": "execute_result"
    }
   ],
   "source": [
    "cols = ['제품코드',\n",
    " '제품명',\n",
    " '규격',\n",
    " '급여구분',\n",
    " '약효분류번호',\n",
    " '전문일반구분',\n",
    " '주성분코드',\n",
    " '사용장려비용가산',\n",
    " '예외약1',\n",
    " '적용개시일자',\n",
    " '업체명',\n",
    " '단위',\n",
    " '투여경로',\n",
    " '저가필수구분',\n",
    " '생동인정제품',\n",
    " '임의조제불가구분',\n",
    " '상한가',\n",
    " '예외약2',\n",
    " '적용종료일자']\n",
    "len(cols)"
   ]
  },
  {
   "cell_type": "code",
   "execution_count": 26,
   "metadata": {},
   "outputs": [],
   "source": [
    "pd.options.display.max_columns = 25"
   ]
  },
  {
   "cell_type": "code",
   "execution_count": 27,
   "metadata": {},
   "outputs": [
    {
     "data": {
      "text/html": [
       "<div>\n",
       "<style scoped>\n",
       "    .dataframe tbody tr th:only-of-type {\n",
       "        vertical-align: middle;\n",
       "    }\n",
       "\n",
       "    .dataframe tbody tr th {\n",
       "        vertical-align: top;\n",
       "    }\n",
       "\n",
       "    .dataframe thead th {\n",
       "        text-align: right;\n",
       "    }\n",
       "</style>\n",
       "<table border=\"1\" class=\"dataframe\">\n",
       "  <thead>\n",
       "    <tr style=\"text-align: right;\">\n",
       "      <th></th>\n",
       "      <th>0</th>\n",
       "      <th>1</th>\n",
       "      <th>2</th>\n",
       "      <th>3</th>\n",
       "      <th>4</th>\n",
       "      <th>5</th>\n",
       "      <th>6</th>\n",
       "      <th>7</th>\n",
       "      <th>8</th>\n",
       "      <th>9</th>\n",
       "      <th>10</th>\n",
       "      <th>11</th>\n",
       "      <th>12</th>\n",
       "      <th>13</th>\n",
       "      <th>14</th>\n",
       "      <th>15</th>\n",
       "      <th>16</th>\n",
       "      <th>17</th>\n",
       "      <th>18</th>\n",
       "      <th>19</th>\n",
       "      <th>20</th>\n",
       "      <th>21</th>\n",
       "      <th>22</th>\n",
       "    </tr>\n",
       "  </thead>\n",
       "  <tbody>\n",
       "    <tr>\n",
       "      <th>0</th>\n",
       "      <td></td>\n",
       "      <td>642901951</td>\n",
       "      <td>일동후루마린주사0.5그램(플로목세프나트륨)_(0.5g/1병)</td>\n",
       "      <td>1</td>\n",
       "      <td>급여</td>\n",
       "      <td>618</td>\n",
       "      <td>전문</td>\n",
       "      <td>159501BIJ</td>\n",
       "      <td>0</td>\n",
       "      <td>-</td>\n",
       "      <td>2025-04-21</td>\n",
       "      <td></td>\n",
       "      <td></td>\n",
       "      <td>일동제약(주)</td>\n",
       "      <td>병</td>\n",
       "      <td>주사</td>\n",
       "      <td></td>\n",
       "      <td></td>\n",
       "      <td></td>\n",
       "      <td>6,294</td>\n",
       "      <td>-</td>\n",
       "      <td></td>\n",
       "      <td></td>\n",
       "    </tr>\n",
       "    <tr>\n",
       "      <th>1</th>\n",
       "      <td></td>\n",
       "      <td>641805900</td>\n",
       "      <td>광동시타글립틴인산염수화물정100밀리그램_(0.1285g/1정)</td>\n",
       "      <td>1</td>\n",
       "      <td>급여</td>\n",
       "      <td>396</td>\n",
       "      <td>전문</td>\n",
       "      <td>501103ATB</td>\n",
       "      <td>0</td>\n",
       "      <td>-</td>\n",
       "      <td>2024-09-02</td>\n",
       "      <td></td>\n",
       "      <td></td>\n",
       "      <td>광동제약(주)</td>\n",
       "      <td>정</td>\n",
       "      <td>내복</td>\n",
       "      <td></td>\n",
       "      <td></td>\n",
       "      <td></td>\n",
       "      <td>487</td>\n",
       "      <td>-</td>\n",
       "      <td></td>\n",
       "      <td></td>\n",
       "    </tr>\n",
       "    <tr>\n",
       "      <th>2</th>\n",
       "      <td></td>\n",
       "      <td>643202640</td>\n",
       "      <td>스타비아정100mg(시타글립틴인산염수화물)_(0.1285g/1정)</td>\n",
       "      <td>1</td>\n",
       "      <td>급여</td>\n",
       "      <td>396</td>\n",
       "      <td>전문</td>\n",
       "      <td>501103ATB</td>\n",
       "      <td>0</td>\n",
       "      <td>-</td>\n",
       "      <td>2024-09-02</td>\n",
       "      <td></td>\n",
       "      <td></td>\n",
       "      <td>동성제약(주)</td>\n",
       "      <td>정</td>\n",
       "      <td>내복</td>\n",
       "      <td></td>\n",
       "      <td>생동성시험</td>\n",
       "      <td></td>\n",
       "      <td>487</td>\n",
       "      <td>-</td>\n",
       "      <td></td>\n",
       "      <td></td>\n",
       "    </tr>\n",
       "  </tbody>\n",
       "</table>\n",
       "</div>"
      ],
      "text/plain": [
       "  0          1                                     2  3   4    5   6  \\\n",
       "0    642901951     일동후루마린주사0.5그램(플로목세프나트륨)_(0.5g/1병)  1  급여  618  전문   \n",
       "1    641805900    광동시타글립틴인산염수화물정100밀리그램_(0.1285g/1정)  1  급여  396  전문   \n",
       "2    643202640  스타비아정100mg(시타글립틴인산염수화물)_(0.1285g/1정)  1  급여  396  전문   \n",
       "\n",
       "           7  8  9          10 11 12       13 14  15 16     17 18     19 20  \\\n",
       "0  159501BIJ  0  -  2025-04-21        일동제약(주)  병  주사               6,294  -   \n",
       "1  501103ATB  0  -  2024-09-02        광동제약(주)  정  내복                 487  -   \n",
       "2  501103ATB  0  -  2024-09-02        동성제약(주)  정  내복     생동성시험       487  -   \n",
       "\n",
       "  21 22  \n",
       "0        \n",
       "1        \n",
       "2        "
      ]
     },
     "execution_count": 27,
     "metadata": {},
     "output_type": "execute_result"
    }
   ],
   "source": [
    "df.head(3)"
   ]
  },
  {
   "cell_type": "code",
   "execution_count": 28,
   "metadata": {},
   "outputs": [],
   "source": [
    "df = df.drop([0, 11, 12, 22], axis=1)"
   ]
  },
  {
   "cell_type": "code",
   "execution_count": 29,
   "metadata": {},
   "outputs": [
    {
     "data": {
      "text/plain": [
       "(10, 19)"
      ]
     },
     "execution_count": 29,
     "metadata": {},
     "output_type": "execute_result"
    }
   ],
   "source": [
    "df.shape"
   ]
  },
  {
   "cell_type": "code",
   "execution_count": 30,
   "metadata": {},
   "outputs": [
    {
     "data": {
      "text/plain": [
       "19"
      ]
     },
     "execution_count": 30,
     "metadata": {},
     "output_type": "execute_result"
    }
   ],
   "source": [
    "len(cols)"
   ]
  },
  {
   "cell_type": "code",
   "execution_count": 31,
   "metadata": {},
   "outputs": [],
   "source": [
    "df.columns = cols"
   ]
  },
  {
   "cell_type": "code",
   "execution_count": 32,
   "metadata": {},
   "outputs": [
    {
     "data": {
      "text/html": [
       "<div>\n",
       "<style scoped>\n",
       "    .dataframe tbody tr th:only-of-type {\n",
       "        vertical-align: middle;\n",
       "    }\n",
       "\n",
       "    .dataframe tbody tr th {\n",
       "        vertical-align: top;\n",
       "    }\n",
       "\n",
       "    .dataframe thead th {\n",
       "        text-align: right;\n",
       "    }\n",
       "</style>\n",
       "<table border=\"1\" class=\"dataframe\">\n",
       "  <thead>\n",
       "    <tr style=\"text-align: right;\">\n",
       "      <th></th>\n",
       "      <th>제품코드</th>\n",
       "      <th>제품명</th>\n",
       "      <th>규격</th>\n",
       "      <th>급여구분</th>\n",
       "      <th>약효분류번호</th>\n",
       "      <th>전문일반구분</th>\n",
       "      <th>주성분코드</th>\n",
       "      <th>사용장려비용가산</th>\n",
       "      <th>예외약1</th>\n",
       "      <th>적용개시일자</th>\n",
       "      <th>업체명</th>\n",
       "      <th>단위</th>\n",
       "      <th>투여경로</th>\n",
       "      <th>저가필수구분</th>\n",
       "      <th>생동인정제품</th>\n",
       "      <th>임의조제불가구분</th>\n",
       "      <th>상한가</th>\n",
       "      <th>예외약2</th>\n",
       "      <th>적용종료일자</th>\n",
       "    </tr>\n",
       "  </thead>\n",
       "  <tbody>\n",
       "    <tr>\n",
       "      <th>0</th>\n",
       "      <td>642901951</td>\n",
       "      <td>일동후루마린주사0.5그램(플로목세프나트륨)_(0.5g/1병)</td>\n",
       "      <td>1</td>\n",
       "      <td>급여</td>\n",
       "      <td>618</td>\n",
       "      <td>전문</td>\n",
       "      <td>159501BIJ</td>\n",
       "      <td>0</td>\n",
       "      <td>-</td>\n",
       "      <td>2025-04-21</td>\n",
       "      <td>일동제약(주)</td>\n",
       "      <td>병</td>\n",
       "      <td>주사</td>\n",
       "      <td></td>\n",
       "      <td></td>\n",
       "      <td></td>\n",
       "      <td>6,294</td>\n",
       "      <td>-</td>\n",
       "      <td></td>\n",
       "    </tr>\n",
       "    <tr>\n",
       "      <th>1</th>\n",
       "      <td>641805900</td>\n",
       "      <td>광동시타글립틴인산염수화물정100밀리그램_(0.1285g/1정)</td>\n",
       "      <td>1</td>\n",
       "      <td>급여</td>\n",
       "      <td>396</td>\n",
       "      <td>전문</td>\n",
       "      <td>501103ATB</td>\n",
       "      <td>0</td>\n",
       "      <td>-</td>\n",
       "      <td>2024-09-02</td>\n",
       "      <td>광동제약(주)</td>\n",
       "      <td>정</td>\n",
       "      <td>내복</td>\n",
       "      <td></td>\n",
       "      <td></td>\n",
       "      <td></td>\n",
       "      <td>487</td>\n",
       "      <td>-</td>\n",
       "      <td></td>\n",
       "    </tr>\n",
       "    <tr>\n",
       "      <th>2</th>\n",
       "      <td>643202640</td>\n",
       "      <td>스타비아정100mg(시타글립틴인산염수화물)_(0.1285g/1정)</td>\n",
       "      <td>1</td>\n",
       "      <td>급여</td>\n",
       "      <td>396</td>\n",
       "      <td>전문</td>\n",
       "      <td>501103ATB</td>\n",
       "      <td>0</td>\n",
       "      <td>-</td>\n",
       "      <td>2024-09-02</td>\n",
       "      <td>동성제약(주)</td>\n",
       "      <td>정</td>\n",
       "      <td>내복</td>\n",
       "      <td></td>\n",
       "      <td>생동성시험</td>\n",
       "      <td></td>\n",
       "      <td>487</td>\n",
       "      <td>-</td>\n",
       "      <td></td>\n",
       "    </tr>\n",
       "    <tr>\n",
       "      <th>3</th>\n",
       "      <td>648507280</td>\n",
       "      <td>시타글루정100밀리그램(시타글립틴인산염수화물)_(0.1285g/1정)</td>\n",
       "      <td>1</td>\n",
       "      <td>급여</td>\n",
       "      <td>396</td>\n",
       "      <td>전문</td>\n",
       "      <td>501103ATB</td>\n",
       "      <td>0</td>\n",
       "      <td>-</td>\n",
       "      <td>2024-09-02</td>\n",
       "      <td>신풍제약(주)</td>\n",
       "      <td>정</td>\n",
       "      <td>내복</td>\n",
       "      <td></td>\n",
       "      <td></td>\n",
       "      <td></td>\n",
       "      <td>487</td>\n",
       "      <td>-</td>\n",
       "      <td></td>\n",
       "    </tr>\n",
       "    <tr>\n",
       "      <th>4</th>\n",
       "      <td>648507360</td>\n",
       "      <td>시타글루정25밀리그램(시타글립틴인산염수화물)_(32.125mg/1정)</td>\n",
       "      <td>1</td>\n",
       "      <td>급여</td>\n",
       "      <td>396</td>\n",
       "      <td>전문</td>\n",
       "      <td>501101ATB</td>\n",
       "      <td>0</td>\n",
       "      <td>-</td>\n",
       "      <td>2024-09-02</td>\n",
       "      <td>신풍제약(주)</td>\n",
       "      <td>정</td>\n",
       "      <td>내복</td>\n",
       "      <td></td>\n",
       "      <td></td>\n",
       "      <td></td>\n",
       "      <td>215</td>\n",
       "      <td>-</td>\n",
       "      <td></td>\n",
       "    </tr>\n",
       "  </tbody>\n",
       "</table>\n",
       "</div>"
      ],
      "text/plain": [
       "        제품코드                                     제품명 규격 급여구분 약효분류번호 전문일반구분  \\\n",
       "0  642901951       일동후루마린주사0.5그램(플로목세프나트륨)_(0.5g/1병)  1   급여    618     전문   \n",
       "1  641805900      광동시타글립틴인산염수화물정100밀리그램_(0.1285g/1정)  1   급여    396     전문   \n",
       "2  643202640    스타비아정100mg(시타글립틴인산염수화물)_(0.1285g/1정)  1   급여    396     전문   \n",
       "3  648507280  시타글루정100밀리그램(시타글립틴인산염수화물)_(0.1285g/1정)  1   급여    396     전문   \n",
       "4  648507360  시타글루정25밀리그램(시타글립틴인산염수화물)_(32.125mg/1정)  1   급여    396     전문   \n",
       "\n",
       "       주성분코드 사용장려비용가산 예외약1      적용개시일자      업체명 단위 투여경로 저가필수구분 생동인정제품  \\\n",
       "0  159501BIJ        0    -  2025-04-21  일동제약(주)  병   주사                 \n",
       "1  501103ATB        0    -  2024-09-02  광동제약(주)  정   내복                 \n",
       "2  501103ATB        0    -  2024-09-02  동성제약(주)  정   내복         생동성시험   \n",
       "3  501103ATB        0    -  2024-09-02  신풍제약(주)  정   내복                 \n",
       "4  501101ATB        0    -  2024-09-02  신풍제약(주)  정   내복                 \n",
       "\n",
       "  임의조제불가구분    상한가 예외약2 적용종료일자  \n",
       "0           6,294    -         \n",
       "1             487    -         \n",
       "2             487    -         \n",
       "3             487    -         \n",
       "4             215    -         "
      ]
     },
     "execution_count": 32,
     "metadata": {},
     "output_type": "execute_result"
    }
   ],
   "source": [
    "df.head()"
   ]
  },
  {
   "cell_type": "code",
   "execution_count": null,
   "metadata": {},
   "outputs": [],
   "source": []
  }
 ],
 "metadata": {
  "kernelspec": {
   "display_name": "Python 3",
   "language": "python",
   "name": "python3"
  },
  "language_info": {
   "codemirror_mode": {
    "name": "ipython",
    "version": 3
   },
   "file_extension": ".py",
   "mimetype": "text/x-python",
   "name": "python",
   "nbconvert_exporter": "python",
   "pygments_lexer": "ipython3",
   "version": "3.7.6"
  },
  "varInspector": {
   "cols": {
    "lenName": 16,
    "lenType": 16,
    "lenVar": 40
   },
   "kernels_config": {
    "python": {
     "delete_cmd_postfix": "",
     "delete_cmd_prefix": "del ",
     "library": "var_list.py",
     "varRefreshCmd": "print(var_dic_list())"
    },
    "r": {
     "delete_cmd_postfix": ") ",
     "delete_cmd_prefix": "rm(",
     "library": "var_list.r",
     "varRefreshCmd": "cat(var_dic_list()) "
    }
   },
   "types_to_exclude": [
    "module",
    "function",
    "builtin_function_or_method",
    "instance",
    "_Feature"
   ],
   "window_display": false
  }
 },
 "nbformat": 4,
 "nbformat_minor": 4
}
